{
 "cells": [
  {
   "attachments": {},
   "cell_type": "markdown",
   "metadata": {},
   "source": [
    "+ 对B站UP[【码农高天】](https://space.bilibili.com/245645656)的新年puzzle[【这个两分钟的新年谜题，你两个小时解得开么？】](https://www.bilibili.com/video/BV1314y1A7x2)的个人解答。\n",
    "+ 时间：2023.01.05\n",
    "+ 版本：Python 3.8"
   ]
  },
  {
   "attachments": {},
   "cell_type": "markdown",
   "metadata": {},
   "source": [
    "# 0x00\n",
    "+ 谜面\n",
    "  + 解说：人生，是一段连续的旅程。你刚刚做的决定，就会是你下一段旅程的开端。\n",
    "  + 文字：（上述文字）\n",
    "+ 解释\n",
    "  + 上一关的谜底会作为下一关的输入。"
   ]
  },
  {
   "attachments": {},
   "cell_type": "markdown",
   "metadata": {},
   "source": [
    "# 0x01\n",
    "+ 谜面\n",
    "  + 解说：而程序员的人生，其实很简单。答案常常就在这16个数里。\n",
    "  + 文字：0123456789abcdef\n",
    "+ 解释\n",
    "  + 用16进制表示结果。"
   ]
  },
  {
   "cell_type": "markdown",
   "metadata": {},
   "source": [
    "# 0x02\n",
    "+ 谜面\n",
    "  + 解说：这个谜题让我们从二零二三开始。\n",
    "  + 文字：二零二三\n",
    "+ 解释\n",
    "  + 初始输入。"
   ]
  },
  {
   "cell_type": "code",
   "execution_count": null,
   "metadata": {},
   "outputs": [],
   "source": [
    "init = '二零二三'\n",
    "# 每个月份对应一个谜面和谜底\n",
    "ans = {}"
   ]
  },
  {
   "attachments": {},
   "cell_type": "markdown",
   "metadata": {},
   "source": [
    "# 0x03\n",
    "+ 谜面\n",
    "  + 解说：我们使用着不同的文字，指望在寻找一个统一的答案。\n",
    "  + 画面：独角兽；VSCode编辑区。\n",
    "  + 文字：Jan.16\n",
    "+ 解释\n",
    "  + 对图片有不同的解读方法，但答案最终都指向Unicode：独角兽Unicorn与Unicode读音近似；编辑器下方所用编码为UTF-8；uni-前缀和code组合起来也是Unicode。\n",
    "  + 不同文字、统一答案也指一致的编码方式Unicode。\n",
    "  + 谜底即为上文汉字的Unicode 16进制编码连接。\n",
    "  + 右上角文字的含义暂时未知，见下文。"
   ]
  },
  {
   "cell_type": "code",
   "execution_count": null,
   "metadata": {},
   "outputs": [],
   "source": [
    "ans['Jan'] = ''.join(hex(ord(ch))[2:] for ch in init)"
   ]
  },
  {
   "attachments": {},
   "cell_type": "markdown",
   "metadata": {},
   "source": [
    "# 0x04\n",
    "+ 谜面\n",
    "  + 解说：当我们不想透露答案，又想确认答案是否一致，就要想点办法。\n",
    "  + 画面：作者的项目Viztracer的Readme；医生；索尼迷你光盘；门捷列夫肖像；摩尔多瓦国旗。\n",
    "  + 文字：Feb.32\n",
    "+ 解释\n",
    "  + Readme使用markdown，缩写为md；医学博士Doctor of Medicine缩写为MD；迷你光盘Mini Disc缩写为MD；门捷列夫Dmitri Mendeleev缩写为M.D.；摩尔多瓦Moldavia缩写为MD（[参考](<https://www.abbreviationfinder.org/moldova-abbreviations/>)）。一共出现了5组MD，意指MD5。\n",
    "  + MD5算法被用于确保信息传输完整一致。\n",
    "  + MD5默认加密位数为32位，可以推测，画面右上角文字中的数字表示这一谜题的答案有多少位（16进制下）。"
   ]
  },
  {
   "cell_type": "code",
   "execution_count": null,
   "metadata": {},
   "outputs": [],
   "source": [
    "from hashlib import md5\n",
    "ans['Feb'] = md5(ans['Jan'].encode()).hexdigest()"
   ]
  },
  {
   "cell_type": "markdown",
   "metadata": {},
   "source": [
    "# 0x05\n",
    "+ 谜面\n",
    "  + 解说：有时候事情没有头绪，不妨把它们排个序，或许就能看到解决的路径。\n",
    "  + 画面：顺序指引的1\\~5。\n",
    "  + 文字：Mar.32\n",
    "+ 解释\n",
    "  + 顺序排序即可。"
   ]
  },
  {
   "cell_type": "code",
   "execution_count": null,
   "metadata": {},
   "outputs": [],
   "source": [
    "ans['Mar'] = ''.join(sorted(ans['Feb']))"
   ]
  },
  {
   "cell_type": "markdown",
   "metadata": {},
   "source": [
    "# 0x06\n",
    "+ 谜面\n",
    "  + 解说：二月，抑或三月，或许就是四月的答案。\n",
    "  + 画面：异或门。\n",
    "  + 文字：Apr.32\n",
    "+ 解释\n",
    "  + “抑或”与“异或”谐音，指对二月和三月的答案作异或。注意是对16进制数作异或而非字符串。"
   ]
  },
  {
   "cell_type": "code",
   "execution_count": null,
   "metadata": {},
   "outputs": [],
   "source": [
    "ans['Apr'] = hex(int(ans['Feb'], 16) ^ int(ans['Mar'], 16))[2:]"
   ]
  },
  {
   "attachments": {},
   "cell_type": "markdown",
   "metadata": {},
   "source": [
    "# 0x07\n",
    "+ 谜面\n",
    "  + 解说：若是还没看到结果，可以努力多一点。\n",
    "  + 画面：凯撒雕像；凯撒沙拉。\n",
    "  + 文字：\n",
    "    + May 32\n",
    "    + F -> 0\n",
    "+ 解释\n",
    "  + 指凯撒密码。“多一点”指偏移量为1位，使F与0对齐。\n",
    "  + 五月可以直接用“May”表示而非“May.”，因此五月的谜面比其他月份的“少一点”，不知道这算不算一个小彩蛋（笑）。"
   ]
  },
  {
   "cell_type": "code",
   "execution_count": null,
   "metadata": {},
   "outputs": [],
   "source": [
    "ans['May'] = ans['Apr'].translate(str.maketrans('0123456789abcdef', '123456789abcdef0'))"
   ]
  },
  {
   "cell_type": "markdown",
   "metadata": {},
   "source": [
    "# 0x08\n",
    "+ 谜面\n",
    "  + 解说：当然，也可能换个角度看人生，一切就不同了。\n",
    "  + 画面：由螺旋箭头串联起来的8\\*4网格。\n",
    "  + 文字：Jun.32\n",
    "+ 解释\n",
    "  + 按箭头顺序重新排列字符串即可。"
   ]
  },
  {
   "cell_type": "code",
   "execution_count": null,
   "metadata": {},
   "outputs": [],
   "source": [
    "ans['Jun'] = ans['May'][::4] + ans['May'][29:31] + ans['May'][31::-4] + ans['May'][2] + ans['May'][1:29:4] + ans['May'][26:2:-4]"
   ]
  },
  {
   "attachments": {},
   "cell_type": "markdown",
   "metadata": {},
   "source": [
    "# 0x09\n",
    "+ 谜面\n",
    "  + 解说：时间过去了一半，不妨将问题也拆掉一半。烦恼的乘法不是每个人都要做。\n",
    "  + 文字：\n",
    "    + Jul.16\n",
    "    + □/\n",
    "+ 解释\n",
    "  + 这一关的谜底存疑最大。\n",
    "  + 去掉一半、由32位变为16位，最朴素的想法是只保留前16位或后16位，然而结果均不对。\n",
    "  + 考虑到要做与乘法相对应的运算，再加上九月的答案提到了快速平方根算法（见下文），因此尝试对上一关答案开平方取整。"
   ]
  },
  {
   "cell_type": "code",
   "execution_count": null,
   "metadata": {},
   "outputs": [],
   "source": [
    "ans['Jul'] = hex(int(int(ans['Jun'], 16) ** 0.5))[2:]"
   ]
  },
  {
   "attachments": {},
   "cell_type": "markdown",
   "metadata": {},
   "source": [
    "# 0x0a\n",
    "+ 谜面\n",
    "  + 音乐：（高音Do和低音Do按某种顺序进行，见下文）\n",
    "  + 文字：\n",
    "    + Aug.6\n",
    "    + 人生难免有起落，记得留下高光，忘掉低潮\n",
    "+ 解释\n",
    "  + 共16个音，与上一关谜底长度相同。\n",
    "  + 根据高低音序列，保留高音索引对应位置的数字。高音共6个，与本关答案长度相同。"
   ]
  },
  {
   "cell_type": "code",
   "execution_count": null,
   "metadata": {},
   "outputs": [],
   "source": [
    "tones = [1, 0, 0, 1, 0, 0, 0, 0, 1, 0, 1, 0, 0, 0, 1, 1]\n",
    "ans['Aug'] = ''.join(ans['Jul'][i] for i in range(16) if tones[i])"
   ]
  },
  {
   "attachments": {},
   "cell_type": "markdown",
   "metadata": {},
   "source": [
    "# 0x0b\n",
    "+ 谜面\n",
    "  + 解说：你可能觉得答案就在眼前，但也可能正是它们遮住了双眼。\n",
    "  + 画面：（这里仅以与之近似的颜色代替）<br>\n",
    "      <font color=#669933>B</font> <font color=#6600cc>k</font> <font color=#ff0000>V</font> <font color=#669933>1</font> <font color=#ff0000>R</font><br>\n",
    "      <font color=#6600cc>6</font> <font color=#ff0000>P</font> <font color=#6600cc>m</font> <font color=#ff0000>4</font> <font color=#669933>y</font><br>\n",
    "      <font color=#ff0000>1</font> <font color=#6600cc>C</font> <font color=#669933>B</font> <font color=#6600cc>n</font> <font color=#6600cc>9</font><br>\n",
    "      <font color=#ff0000>7</font> <font color=#6600cc>L</font> <font color=#ff0000>3</font> <font color=#6600cc>X</font> <font color=#669933>g</font><br>\n",
    "  + 文字：Sept.8\n",
    "+ 解释\n",
    "  + 上一关答案长度为6，这一关画面出现了多种颜色，意指上一关答案是表示RGB的16进制数。\n",
    "  + 由于视频存在压缩，所以屏幕取色得到的RGB可能不代表真实值，只能粗略认为上一关答案指紫色。\n",
    "  + 结合解说，可能需要去掉紫色文字，保留其他文字，即为BV1RP4y1B73g。尚不清楚紫色文字有无其他含义。\n",
    "  + 这一BV号对应了UP的上一期视频[【没那么神秘的快速平方根倒数，给你解释一下这个数是怎么来的】](https://www.bilibili.com/video/BV1RP4y1B73g)，介绍了雷神之锤3中的快速平方根倒数代码与其中的魔数0x5f3759df。\n",
    "  + Python并无C中保持地址不变、将浮点数强行转换为整数的操作。而答案又是一个8位16进制整数，可以推测，答案就是存在于视频中的某个整数，亦即0x5f3759df。"
   ]
  },
  {
   "cell_type": "code",
   "execution_count": null,
   "metadata": {},
   "outputs": [],
   "source": [
    "ans['Sept'] = '5f3759df'"
   ]
  },
  {
   "cell_type": "markdown",
   "metadata": {},
   "source": [
    "# 0x0c\n",
    "+ 谜面\n",
    "  + 解说：对于复杂的问题，我们总可以把它们拆成小的单位，然后优先解决最大的那个。\n",
    "  + 文字：\n",
    "    + Oct.5\n",
    "    + PRIME\n",
    "+ 解释\n",
    "  + prime既指首要的，又指素数。结合解说，即为分解质因数，并取最大的质因子。\n",
    "  + [这里](https://zh.numberempire.com/numberfactorizer.php)可以直接计算质因数分解结果。计算结果与答案长度为5一致。"
   ]
  },
  {
   "cell_type": "code",
   "execution_count": null,
   "metadata": {},
   "outputs": [],
   "source": [
    "from typing import List, Tuple\n",
    "def prime_factorization(num: int) -> List[Tuple[int, int]]:\n",
    "    res = []\n",
    "    primes = [2]\n",
    "    cnt = 0\n",
    "    while num % 2 == 0:\n",
    "        num //= 2\n",
    "        cnt += 1\n",
    "    if cnt:\n",
    "        res.append((2, cnt))\n",
    "\n",
    "    for x in range(3, num + 1, 2):\n",
    "        # 判断质数\n",
    "        flag = True\n",
    "        for p in primes:\n",
    "            if p ** 2 > x:\n",
    "                break\n",
    "            if x % p == 0:\n",
    "                flag = False\n",
    "                break\n",
    "        if flag:\n",
    "            primes.append(x)\n",
    "            # 检查是否是num的质因子\n",
    "            cnt = 0\n",
    "            while num % x == 0:\n",
    "                num //= x\n",
    "                cnt += 1\n",
    "            if cnt:\n",
    "                res.append((x, cnt))\n",
    "            if num == 1:\n",
    "                break\n",
    "\n",
    "    return res\n",
    "\n",
    "ans['Oct'] = hex(prime_factorization(int(ans['Sept'], 16))[-1][0])[2:]"
   ]
  },
  {
   "attachments": {},
   "cell_type": "markdown",
   "metadata": {},
   "source": [
    "# 0x0d\n",
    "+ 谜面\n",
    "  + 解说：只有看清了每一条路的荆棘，才可能寻找到人生的捷径。\n",
    "  + 画面：标有数字的8\\*9网格（见下文），左上角有箭头指入，右下角有箭头指出。\n",
    "  + 文字：Nov.16\n",
    "+ 解释\n",
    "  + 意在寻找从左上角到右下角的路径，使路径上所有数字之和最小。\n",
    "  + [x]表示上一关答案的第x位。\n",
    "  + 注意到网格尺寸为8\\*9、答案长度为16，因此每一步的前进方向必须为向右或向下，最终路径上的数字相连即为答案。"
   ]
  },
  {
   "cell_type": "code",
   "execution_count": null,
   "metadata": {},
   "outputs": [],
   "source": [
    "digits = [\n",
    "    '0068bc763',\n",
    "    '46a' + ans['Oct'][3] + 'afc' + ans['Oct'][4] + 'e',\n",
    "    '7' + ans['Oct'][0] + '959e7dc',\n",
    "    '8d89' + ans['Oct'][1] + 'e' + ans['Oct'][2] + ans['Oct'][1] + '1',\n",
    "    'eac9ecd84',\n",
    "    '2d' + ans['Oct'][4] + '6f919a',\n",
    "    'c' + ans['Oct'][0] + '75d7' + ans['Oct'][2] + '1' + ans['Oct'][3],\n",
    "    '43eba4f61'\n",
    "]\n",
    "grid = [[int(d, 16) for d in row] for row in digits]\n",
    "\n",
    "def minCostRoute(grid: List[int]) -> str:\n",
    "    # 动态规划\n",
    "    rows = len(grid)\n",
    "    cols = len(grid[0])\n",
    "    curr = [[0] * cols for _ in range(rows)] # 到达当前格子的最小代价\n",
    "    step = [[(0, 0)] * cols for _ in range(rows)] # 到达当前格子代价最小的上一步走法\n",
    "    for i in range(1, rows):\n",
    "        curr[i][0] = curr[i-1][0] + grid[i][0]\n",
    "        step[i][0] = (i-1, 0)\n",
    "    for j in range(1, cols):\n",
    "        curr[0][j] = curr[0][j-1] + grid[0][j]\n",
    "        step[0][j] = (0, j-1)\n",
    "    for i in range(1, rows):\n",
    "        for j in range(1, cols):\n",
    "            if curr[i-1][j] < curr[i][j-1]:\n",
    "                curr[i][j] = curr[i-1][j] + grid[i][j]\n",
    "                step[i][j] = (i-1, j)\n",
    "            else:\n",
    "                curr[i][j] = curr[i][j-1] + grid[i][j]\n",
    "                step[i][j] = (i, j-1)\n",
    "\n",
    "    route = [(rows-1, cols-1)]\n",
    "    while True:\n",
    "        i, j = route[-1]\n",
    "        if i == j == 0:\n",
    "            break\n",
    "        route.append(step[i][j])\n",
    "\n",
    "    return ''.join(hex(grid[i][j])[2:] for i, j in route[::-1])\n",
    "\n",
    "ans['Nov'] = minCostRoute(grid)"
   ]
  },
  {
   "cell_type": "markdown",
   "metadata": {},
   "source": [
    "# 0x0e\n",
    "+ 谜面\n",
    "  + 解说：换个形式填充问题，就可以直接看到答案。\n",
    "  + 画面：8\\*8的国际象棋棋盘。\n",
    "  + 文字：Dec.2\n",
    "+ 解释\n",
    "  + 将16位16位数转换为64位2进制数，即可填充到8\\*8的棋盘上。\n",
    "  + 观察填充结果即可得到答案。"
   ]
  },
  {
   "cell_type": "code",
   "execution_count": null,
   "metadata": {},
   "outputs": [],
   "source": [
    "board = '\\n'.join(''.join(str((int(ans['Nov'], 16) >> 63 - 8*i - j) & 1) for j in range(8)) for i in range(8))\n",
    "# print(board)\n",
    "\n",
    "# 或\n",
    "# board = [[(int(ans['Nov'], 16) >> 63 - 8*i - j) & 1 for j in range(8)] for i in range(8)]\n",
    "# import matplotlib.pyplot as plt\n",
    "# plt.imshow(board, cmap='gray')\n",
    "# plt.axis('scaled')\n",
    "\n",
    "ans['Dec'] = '84'"
   ]
  },
  {
   "cell_type": "markdown",
   "metadata": {},
   "source": [
    "# 0x0f\n",
    "+ 谜题\n",
    "  + 解说：是不是到现在依然一头雾水？其实很多谜题就是这样，直到终点前一步还迷雾重重，而揭示谜底的那一刻，一切便豁然开朗了。\n",
    "  + 画面：2023年的年历，某些日期依次闪烁的动画（顺序见下文），每个月份都会有两个日期闪烁。\n",
    "+ 解释\n",
    "  + 注意到每个月份闪烁日期的数字都不大于该月答案的长度，可以推测是对该月答案按日期进行索引（下标从1开始）。\n",
    "  + 每个月份的两个16进制数字为一组，转换为对应ASCII码的字符即可得答案。"
   ]
  },
  {
   "cell_type": "code",
   "execution_count": null,
   "metadata": {},
   "outputs": [],
   "source": [
    "sequence = [\n",
    "    ('Dec', 2, 1),\n",
    "    ('Jun', 11, 24),\n",
    "    ('Feb', 7, 21),\n",
    "    ('Mar', 16, 2),\n",
    "    ('Sept', 4, 6),\n",
    "    ('Jan', 13, 2),\n",
    "    ('Nov', 15, 6),\n",
    "    ('Oct', 4, 4),\n",
    "    ('Apr', 5, 21),\n",
    "    ('May', 5, 23),\n",
    "    ('Aug', 1, 3),\n",
    "    ('Jul', 11, 2)\n",
    "]\n",
    "blessing = ''.join(chr(int(ans[month][idx1-1] + ans[month][idx2-1], 16)) for month, idx1, idx2 in sequence)\n",
    "# print(blessing)"
   ]
  },
  {
   "attachments": {},
   "cell_type": "markdown",
   "metadata": {},
   "source": [
    "# `HappyNewYear`"
   ]
  }
 ],
 "metadata": {
  "kernelspec": {
   "display_name": "Python 3 (ipykernel)",
   "language": "python",
   "name": "python3"
  },
  "language_info": {
   "codemirror_mode": {
    "name": "ipython",
    "version": 3
   },
   "file_extension": ".py",
   "mimetype": "text/x-python",
   "name": "python",
   "nbconvert_exporter": "python",
   "pygments_lexer": "ipython3",
   "version": "3.8.15"
  },
  "vscode": {
   "interpreter": {
    "hash": "ad2bdc8ecc057115af97d19610ffacc2b4e99fae6737bb82f5d7fb13d2f2c186"
   }
  }
 },
 "nbformat": 4,
 "nbformat_minor": 4
}
